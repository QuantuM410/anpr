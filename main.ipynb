{
 "cells": [
  {
   "cell_type": "code",
   "execution_count": null,
   "metadata": {},
   "outputs": [],
   "source": [
    "# !git clone https://github.com/ultralytics/yolov5.git"
   ]
  },
  {
   "cell_type": "code",
   "execution_count": null,
   "metadata": {},
   "outputs": [],
   "source": [
    "%cd yolov5"
   ]
  },
  {
   "cell_type": "code",
   "execution_count": null,
   "metadata": {},
   "outputs": [],
   "source": [
    "%pip install -U -r requirements.txt"
   ]
  },
  {
   "cell_type": "code",
   "execution_count": null,
   "metadata": {},
   "outputs": [],
   "source": [
    "!bash data/scripts/download_weights.sh"
   ]
  },
  {
   "cell_type": "code",
   "execution_count": null,
   "metadata": {},
   "outputs": [],
   "source": [
    "import torch\n",
    "import utils\n",
    "display = utils.notebook_init()"
   ]
  },
  {
   "cell_type": "code",
   "execution_count": null,
   "metadata": {},
   "outputs": [],
   "source": [
    "%cd .."
   ]
  },
  {
   "cell_type": "markdown",
   "metadata": {},
   "source": [
    "names:\n",
    "0: person\n",
    "1: bicycle\n",
    "2: car\n",
    "3: motorcycle\n",
    "4: airplane\n",
    "5: bus\n",
    "6: train\n",
    "7: truck\n",
    "8: boat\n",
    "9: traffic light\n",
    "10: fire hydrant\n",
    "11: stop sign\n",
    "12: parking meter\n",
    "13: bench\n",
    "14: bird\n",
    "15: cat\n",
    "16: dog\n",
    "17: horse\n",
    "18: sheep\n",
    "19: cow\n",
    "20: elephant\n",
    "21: bear\n",
    "22: zebra\n",
    "23: giraffe\n",
    "24: backpack\n",
    "25: umbrella\n",
    "26: handbag\n",
    "27: tie\n",
    "28: suitcase\n",
    "29: frisbee\n",
    "30: skis\n",
    "31: snowboard\n",
    "32: sports ball\n",
    "33: kite\n",
    "34: baseball bat\n",
    "35: baseball glove\n",
    "36: skateboard\n",
    "37: surfboard\n",
    "38: tennis racket\n",
    "39: bottle\n",
    "40: wine glass\n",
    "41: cup\n",
    "42: fork\n",
    "43: knife\n",
    "44: spoon\n",
    "45: bowl\n",
    "46: banana\n",
    "47: apple\n",
    "48: sandwich\n",
    "49: orange\n",
    "50: broccoli\n",
    "51: carrot\n",
    "52: hot dog\n",
    "53: pizza\n",
    "54: donut\n",
    "55: cake\n",
    "56: chair\n",
    "57: couch\n",
    "58: potted plant\n",
    "59: bed\n",
    "60: dining table\n",
    "61: toilet\n",
    "62: tv\n",
    "63: laptop\n",
    "64: mouse\n",
    "65: remote\n",
    "66: keyboard\n",
    "67: cell phone\n",
    "68: microwave\n",
    "69: oven\n",
    "70: toaster\n",
    "71: sink\n",
    "72: refrigerator\n",
    "73: book\n",
    "74: clock\n",
    "75: vase\n",
    "76: scissors\n",
    "77: teddy bear\n",
    "78: hair drier\n",
    "79: toothbrush\n"
   ]
  },
  {
   "cell_type": "markdown",
   "metadata": {},
   "source": [
    "## Updating dataset labels to match the model's output (0 to 2 for car in YOLO models)\n"
   ]
  },
  {
   "cell_type": "code",
   "execution_count": null,
   "metadata": {},
   "outputs": [],
   "source": [
    "import os\n",
    "\n",
    "\n",
    "def update_labels(directory_path):\n",
    "    for filename in os.listdir(directory_path):\n",
    "        if filename.endswith(\".txt\"):\n",
    "            file_path = os.path.join(directory_path, filename)\n",
    "            with open(file_path, \"r\") as file:\n",
    "                lines = file.readlines()\n",
    "\n",
    "            updated_lines = [line.replace('0 ', '2 ') for line in lines]\n",
    "\n",
    "            with open(file_path, \"w\") as file:\n",
    "                file.writelines(updated_lines)\n",
    "\n",
    "            print(f\"Updated labels in: {file_path}\")\n",
    "\n",
    "\n",
    "update_labels(\"dataset/train/labels\")\n",
    "\n",
    "update_labels(\"dataset/val/labels\")"
   ]
  },
  {
   "cell_type": "markdown",
   "metadata": {},
   "source": [
    "## Image"
   ]
  },
  {
   "cell_type": "code",
   "execution_count": null,
   "metadata": {},
   "outputs": [],
   "source": [
    "\n",
    "!python yolov5/detect.py --weights yolov5l.pt --img 640 --conf 0.25 --classes 2 3 5 7 --source dataset/train/images --project runs/detect --name detect_train --exist-ok "
   ]
  },
  {
   "cell_type": "markdown",
   "metadata": {},
   "source": [
    "## Video"
   ]
  },
  {
   "cell_type": "code",
   "execution_count": null,
   "metadata": {},
   "outputs": [],
   "source": [
    "!python yolov5/detect.py --weights yolov5l.pt --source assets/people-walking.mp4 --conf 0.25 --classes 0 2 3 5 7 --project runs/detect --name detect_video --exist-ok"
   ]
  },
  {
   "cell_type": "markdown",
   "metadata": {},
   "source": [
    "## Video with stride of 3 frames"
   ]
  },
  {
   "cell_type": "code",
   "execution_count": null,
   "metadata": {},
   "outputs": [],
   "source": [
    "    !python yolov5/detect.py --weights yolov5l.pt --source assets/people-walking.mp4 --conf 0.25 --classes 0 2 3 5 7 --project runs/detect --name detect_video_frame_rate_stride --exist-ok --vid-stride 3"
   ]
  },
  {
   "cell_type": "markdown",
   "metadata": {},
   "source": [
    "## Metrics"
   ]
  },
  {
   "cell_type": "markdown",
   "metadata": {},
   "source": [
    "#### YOLOV5L"
   ]
  },
  {
   "cell_type": "code",
   "execution_count": 1,
   "metadata": {},
   "outputs": [
    {
     "name": "stdout",
     "output_type": "stream",
     "text": [
      "\u001b[34m\u001b[1mval: \u001b[0mdata=config.yaml, weights=['yolov5l.pt'], batch_size=32, imgsz=640, conf_thres=0.5, iou_thres=0.6, max_det=300, task=val, device=, workers=8, single_cls=False, augment=False, verbose=False, save_txt=False, save_hybrid=False, save_conf=False, save_json=False, project=yolov5/runs/val, name=exp, exist_ok=False, half=True, dnn=False\n",
      "WARNING ⚠️ confidence threshold 0.5 > 0.001 produces invalid results\n",
      "YOLOv5 🚀 v7.0-278-g050c72cb Python-3.10.12 torch-2.1.2+cu121 CUDA:0 (NVIDIA GeForce GTX 1050, 3010MiB)\n",
      "\n",
      "Fusing layers... \n",
      "YOLOv5l summary: 367 layers, 46533693 parameters, 0 gradients, 109.0 GFLOPs\n",
      "\u001b[34m\u001b[1mval: \u001b[0mScanning /media/quantum410/windows-mount/projects/ANPR/yolov5_implementatio\u001b[0m\n",
      "\u001b[34m\u001b[1mval: \u001b[0mNew cache created: /media/quantum410/windows-mount/projects/ANPR/yolov5_implementation/dataset/train/labels.cache\n",
      "                 Class     Images  Instances          P          R      mAP50   WARNING ⚠️ NMS time limit 2.100s exceeded\n",
      "                 Class     Images  Instances          P          R      mAP50   \n",
      "                   all        399       3788      0.867      0.771      0.838      0.412\n",
      "Speed: 0.3ms pre-process, 49.5ms inference, 10.5ms NMS per image at shape (32, 3, 640, 640)\n",
      "Results saved to \u001b[1myolov5/runs/val/exp\u001b[0m\n"
     ]
    }
   ],
   "source": [
    "!python yolov5/val.py --weights yolov5l.pt --data config.yaml --img 640 --half --conf-thres 0.5"
   ]
  },
  {
   "cell_type": "markdown",
   "metadata": {},
   "source": [
    "#### YOLOV5X "
   ]
  },
  {
   "cell_type": "code",
   "execution_count": 2,
   "metadata": {},
   "outputs": [
    {
     "name": "stdout",
     "output_type": "stream",
     "text": [
      "\u001b[34m\u001b[1mval: \u001b[0mdata=config.yaml, weights=['yolov5x.pt'], batch_size=32, imgsz=640, conf_thres=0.5, iou_thres=0.6, max_det=300, task=val, device=, workers=8, single_cls=False, augment=False, verbose=False, save_txt=False, save_hybrid=False, save_conf=False, save_json=False, project=yolov5/runs/val, name=exp, exist_ok=False, half=True, dnn=False\n",
      "WARNING ⚠️ confidence threshold 0.5 > 0.001 produces invalid results\n",
      "YOLOv5 🚀 v7.0-278-g050c72cb Python-3.10.12 torch-2.1.2+cu121 CUDA:0 (NVIDIA GeForce GTX 1050, 3010MiB)\n",
      "\n",
      "Fusing layers... \n",
      "YOLOv5x summary: 444 layers, 86705005 parameters, 0 gradients, 205.5 GFLOPs\n",
      "\u001b[34m\u001b[1mval: \u001b[0mScanning /media/quantum410/windows-mount/projects/ANPR/yolov5_implementatio\u001b[0m\n",
      "                 Class     Images  Instances          P          R      mAP50   \n",
      "                   all        399       3788      0.863      0.875      0.895      0.441\n",
      "Speed: 0.3ms pre-process, 84.6ms inference, 3.2ms NMS per image at shape (32, 3, 640, 640)\n",
      "Results saved to \u001b[1myolov5/runs/val/exp2\u001b[0m\n"
     ]
    }
   ],
   "source": [
    "\n",
    "!python yolov5/val.py --weights yolov5x.pt --data config.yaml --img 640 --half --conf-thres 0.5 "
   ]
  },
  {
   "cell_type": "code",
   "execution_count": null,
   "metadata": {},
   "outputs": [],
   "source": []
  }
 ],
 "metadata": {
  "kernelspec": {
   "display_name": "Python 3 (ipykernel)",
   "language": "python",
   "name": "python3"
  },
  "language_info": {
   "codemirror_mode": {
    "name": "ipython",
    "version": 3
   },
   "file_extension": ".py",
   "mimetype": "text/x-python",
   "name": "python",
   "nbconvert_exporter": "python",
   "pygments_lexer": "ipython3",
   "version": "3.10.12"
  }
 },
 "nbformat": 4,
 "nbformat_minor": 2
}
